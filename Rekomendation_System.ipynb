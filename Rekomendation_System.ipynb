{
  "nbformat": 4,
  "nbformat_minor": 0,
  "metadata": {
    "colab": {
      "provenance": [],
      "authorship_tag": "ABX9TyPWzbT/HXb9C39bd2rGZY/x",
      "include_colab_link": true
    },
    "kernelspec": {
      "name": "python3",
      "display_name": "Python 3"
    },
    "language_info": {
      "name": "python"
    }
  },
  "cells": [
    {
      "cell_type": "markdown",
      "metadata": {
        "id": "view-in-github",
        "colab_type": "text"
      },
      "source": [
        "<a href=\"https://colab.research.google.com/github/WibowoAdiSaputro/Rekomendation-System/blob/main/Rekomendation_System.ipynb\" target=\"_parent\"><img src=\"https://colab.research.google.com/assets/colab-badge.svg\" alt=\"Open In Colab\"/></a>"
      ]
    },
    {
      "cell_type": "code",
      "execution_count": 1,
      "metadata": {
        "colab": {
          "base_uri": "https://localhost:8080/",
          "height": 206
        },
        "id": "GfzwYyZjM8FM",
        "outputId": "18496601-5b7f-4268-bc86-363dd0ee3d6e"
      },
      "outputs": [
        {
          "output_type": "execute_result",
          "data": {
            "text/plain": [
              "                                               mitra  \\\n",
              "0                         PT Orbit Ventura Indonesia   \n",
              "1                       PT Nurul Fikri Cipta Inovasi   \n",
              "2                  PT MariBelajar Indonesia \\nCerdas   \n",
              "3  Akademi Mobile App Developer PT Nurul Fikri Ci...   \n",
              "4           Data Analytics PT Zona Edukasi Nusantara   \n",
              "\n",
              "                                              alamat  \\\n",
              "0  Veteran RI Building 15th Floor Unit\\nZ15-002, ...   \n",
              "1  Jl. Situ Indah No.116 RT. 006 \\nRW. 010 Kel. T...   \n",
              "2  Jln Tunggul Ametung IVa no 8, \\nDesa Ubung Kaj...   \n",
              "3  Jl. Situ Indah No.116 RT. 006 RW. 010 Kel. Tug...   \n",
              "4  Graha Aktiva, Ground Floor, Jalan HR Rasuna Sa...   \n",
              "\n",
              "                                               modul  \n",
              "0  Project AI   Metode Penelitian AI   Pemrograma...  \n",
              "1  Desain Web   Git/Github   Javascript   Laravel...  \n",
              "2  Microsoft 365 Fundamentals   Microsoft Azure F...  \n",
              "3  Soft Skill. Mampu menjelaskan pengertian komun...  \n",
              "4  Membaca dan Meninjau Jurnal. Peserta mampu mem...  "
            ],
            "text/html": [
              "\n",
              "  <div id=\"df-39a0345d-7871-474d-8d31-9db33cbacf1f\">\n",
              "    <div class=\"colab-df-container\">\n",
              "      <div>\n",
              "<style scoped>\n",
              "    .dataframe tbody tr th:only-of-type {\n",
              "        vertical-align: middle;\n",
              "    }\n",
              "\n",
              "    .dataframe tbody tr th {\n",
              "        vertical-align: top;\n",
              "    }\n",
              "\n",
              "    .dataframe thead th {\n",
              "        text-align: right;\n",
              "    }\n",
              "</style>\n",
              "<table border=\"1\" class=\"dataframe\">\n",
              "  <thead>\n",
              "    <tr style=\"text-align: right;\">\n",
              "      <th></th>\n",
              "      <th>mitra</th>\n",
              "      <th>alamat</th>\n",
              "      <th>modul</th>\n",
              "    </tr>\n",
              "  </thead>\n",
              "  <tbody>\n",
              "    <tr>\n",
              "      <th>0</th>\n",
              "      <td>PT Orbit Ventura Indonesia</td>\n",
              "      <td>Veteran RI Building 15th Floor Unit\\nZ15-002, ...</td>\n",
              "      <td>Project AI   Metode Penelitian AI   Pemrograma...</td>\n",
              "    </tr>\n",
              "    <tr>\n",
              "      <th>1</th>\n",
              "      <td>PT Nurul Fikri Cipta Inovasi</td>\n",
              "      <td>Jl. Situ Indah No.116 RT. 006 \\nRW. 010 Kel. T...</td>\n",
              "      <td>Desain Web   Git/Github   Javascript   Laravel...</td>\n",
              "    </tr>\n",
              "    <tr>\n",
              "      <th>2</th>\n",
              "      <td>PT MariBelajar Indonesia \\nCerdas</td>\n",
              "      <td>Jln Tunggul Ametung IVa no 8, \\nDesa Ubung Kaj...</td>\n",
              "      <td>Microsoft 365 Fundamentals   Microsoft Azure F...</td>\n",
              "    </tr>\n",
              "    <tr>\n",
              "      <th>3</th>\n",
              "      <td>Akademi Mobile App Developer PT Nurul Fikri Ci...</td>\n",
              "      <td>Jl. Situ Indah No.116 RT. 006 RW. 010 Kel. Tug...</td>\n",
              "      <td>Soft Skill. Mampu menjelaskan pengertian komun...</td>\n",
              "    </tr>\n",
              "    <tr>\n",
              "      <th>4</th>\n",
              "      <td>Data Analytics PT Zona Edukasi Nusantara</td>\n",
              "      <td>Graha Aktiva, Ground Floor, Jalan HR Rasuna Sa...</td>\n",
              "      <td>Membaca dan Meninjau Jurnal. Peserta mampu mem...</td>\n",
              "    </tr>\n",
              "  </tbody>\n",
              "</table>\n",
              "</div>\n",
              "      <button class=\"colab-df-convert\" onclick=\"convertToInteractive('df-39a0345d-7871-474d-8d31-9db33cbacf1f')\"\n",
              "              title=\"Convert this dataframe to an interactive table.\"\n",
              "              style=\"display:none;\">\n",
              "        \n",
              "  <svg xmlns=\"http://www.w3.org/2000/svg\" height=\"24px\"viewBox=\"0 0 24 24\"\n",
              "       width=\"24px\">\n",
              "    <path d=\"M0 0h24v24H0V0z\" fill=\"none\"/>\n",
              "    <path d=\"M18.56 5.44l.94 2.06.94-2.06 2.06-.94-2.06-.94-.94-2.06-.94 2.06-2.06.94zm-11 1L8.5 8.5l.94-2.06 2.06-.94-2.06-.94L8.5 2.5l-.94 2.06-2.06.94zm10 10l.94 2.06.94-2.06 2.06-.94-2.06-.94-.94-2.06-.94 2.06-2.06.94z\"/><path d=\"M17.41 7.96l-1.37-1.37c-.4-.4-.92-.59-1.43-.59-.52 0-1.04.2-1.43.59L10.3 9.45l-7.72 7.72c-.78.78-.78 2.05 0 2.83L4 21.41c.39.39.9.59 1.41.59.51 0 1.02-.2 1.41-.59l7.78-7.78 2.81-2.81c.8-.78.8-2.07 0-2.86zM5.41 20L4 18.59l7.72-7.72 1.47 1.35L5.41 20z\"/>\n",
              "  </svg>\n",
              "      </button>\n",
              "      \n",
              "  <style>\n",
              "    .colab-df-container {\n",
              "      display:flex;\n",
              "      flex-wrap:wrap;\n",
              "      gap: 12px;\n",
              "    }\n",
              "\n",
              "    .colab-df-convert {\n",
              "      background-color: #E8F0FE;\n",
              "      border: none;\n",
              "      border-radius: 50%;\n",
              "      cursor: pointer;\n",
              "      display: none;\n",
              "      fill: #1967D2;\n",
              "      height: 32px;\n",
              "      padding: 0 0 0 0;\n",
              "      width: 32px;\n",
              "    }\n",
              "\n",
              "    .colab-df-convert:hover {\n",
              "      background-color: #E2EBFA;\n",
              "      box-shadow: 0px 1px 2px rgba(60, 64, 67, 0.3), 0px 1px 3px 1px rgba(60, 64, 67, 0.15);\n",
              "      fill: #174EA6;\n",
              "    }\n",
              "\n",
              "    [theme=dark] .colab-df-convert {\n",
              "      background-color: #3B4455;\n",
              "      fill: #D2E3FC;\n",
              "    }\n",
              "\n",
              "    [theme=dark] .colab-df-convert:hover {\n",
              "      background-color: #434B5C;\n",
              "      box-shadow: 0px 1px 3px 1px rgba(0, 0, 0, 0.15);\n",
              "      filter: drop-shadow(0px 1px 2px rgba(0, 0, 0, 0.3));\n",
              "      fill: #FFFFFF;\n",
              "    }\n",
              "  </style>\n",
              "\n",
              "      <script>\n",
              "        const buttonEl =\n",
              "          document.querySelector('#df-39a0345d-7871-474d-8d31-9db33cbacf1f button.colab-df-convert');\n",
              "        buttonEl.style.display =\n",
              "          google.colab.kernel.accessAllowed ? 'block' : 'none';\n",
              "\n",
              "        async function convertToInteractive(key) {\n",
              "          const element = document.querySelector('#df-39a0345d-7871-474d-8d31-9db33cbacf1f');\n",
              "          const dataTable =\n",
              "            await google.colab.kernel.invokeFunction('convertToInteractive',\n",
              "                                                     [key], {});\n",
              "          if (!dataTable) return;\n",
              "\n",
              "          const docLinkHtml = 'Like what you see? Visit the ' +\n",
              "            '<a target=\"_blank\" href=https://colab.research.google.com/notebooks/data_table.ipynb>data table notebook</a>'\n",
              "            + ' to learn more about interactive tables.';\n",
              "          element.innerHTML = '';\n",
              "          dataTable['output_type'] = 'display_data';\n",
              "          await google.colab.output.renderOutput(dataTable, element);\n",
              "          const docLink = document.createElement('div');\n",
              "          docLink.innerHTML = docLinkHtml;\n",
              "          element.appendChild(docLink);\n",
              "        }\n",
              "      </script>\n",
              "    </div>\n",
              "  </div>\n",
              "  "
            ]
          },
          "metadata": {},
          "execution_count": 1
        }
      ],
      "source": [
        "import pandas as pd\n",
        "import numpy as np\n",
        "from sklearn.metrics.pairwise import cosine_similarity\n",
        "from sklearn.feature_extraction.text import TfidfVectorizer\n",
        "from nltk.corpus import stopwords\n",
        "import re\n",
        "import random\n",
        "\n",
        "df = pd.read_csv(\"https://raw.githubusercontent.com/WibowoAdiSaputro/Rekomendation-System/main/datarekomendasi_textmining%20-%20Sheet1.csv\")\n",
        "df.head()"
      ]
    },
    {
      "cell_type": "code",
      "source": [
        "df.describe()"
      ],
      "metadata": {
        "colab": {
          "base_uri": "https://localhost:8080/",
          "height": 175
        },
        "id": "SOLfvlwhNZ80",
        "outputId": "b966542b-2634-491e-93e6-ef05b46b77c7"
      },
      "execution_count": 2,
      "outputs": [
        {
          "output_type": "execute_result",
          "data": {
            "text/plain": [
              "                             mitra  \\\n",
              "count                           11   \n",
              "unique                          11   \n",
              "top     PT Orbit Ventura Indonesia   \n",
              "freq                             1   \n",
              "\n",
              "                                                   alamat  \\\n",
              "count                                                  11   \n",
              "unique                                                 11   \n",
              "top     Veteran RI Building 15th Floor Unit\\nZ15-002, ...   \n",
              "freq                                                    1   \n",
              "\n",
              "                                                    modul  \n",
              "count                                                  11  \n",
              "unique                                                 11  \n",
              "top     Project AI   Metode Penelitian AI   Pemrograma...  \n",
              "freq                                                    1  "
            ],
            "text/html": [
              "\n",
              "  <div id=\"df-135c07f6-ff23-46ea-a7f1-60b30ec8d7ad\">\n",
              "    <div class=\"colab-df-container\">\n",
              "      <div>\n",
              "<style scoped>\n",
              "    .dataframe tbody tr th:only-of-type {\n",
              "        vertical-align: middle;\n",
              "    }\n",
              "\n",
              "    .dataframe tbody tr th {\n",
              "        vertical-align: top;\n",
              "    }\n",
              "\n",
              "    .dataframe thead th {\n",
              "        text-align: right;\n",
              "    }\n",
              "</style>\n",
              "<table border=\"1\" class=\"dataframe\">\n",
              "  <thead>\n",
              "    <tr style=\"text-align: right;\">\n",
              "      <th></th>\n",
              "      <th>mitra</th>\n",
              "      <th>alamat</th>\n",
              "      <th>modul</th>\n",
              "    </tr>\n",
              "  </thead>\n",
              "  <tbody>\n",
              "    <tr>\n",
              "      <th>count</th>\n",
              "      <td>11</td>\n",
              "      <td>11</td>\n",
              "      <td>11</td>\n",
              "    </tr>\n",
              "    <tr>\n",
              "      <th>unique</th>\n",
              "      <td>11</td>\n",
              "      <td>11</td>\n",
              "      <td>11</td>\n",
              "    </tr>\n",
              "    <tr>\n",
              "      <th>top</th>\n",
              "      <td>PT Orbit Ventura Indonesia</td>\n",
              "      <td>Veteran RI Building 15th Floor Unit\\nZ15-002, ...</td>\n",
              "      <td>Project AI   Metode Penelitian AI   Pemrograma...</td>\n",
              "    </tr>\n",
              "    <tr>\n",
              "      <th>freq</th>\n",
              "      <td>1</td>\n",
              "      <td>1</td>\n",
              "      <td>1</td>\n",
              "    </tr>\n",
              "  </tbody>\n",
              "</table>\n",
              "</div>\n",
              "      <button class=\"colab-df-convert\" onclick=\"convertToInteractive('df-135c07f6-ff23-46ea-a7f1-60b30ec8d7ad')\"\n",
              "              title=\"Convert this dataframe to an interactive table.\"\n",
              "              style=\"display:none;\">\n",
              "        \n",
              "  <svg xmlns=\"http://www.w3.org/2000/svg\" height=\"24px\"viewBox=\"0 0 24 24\"\n",
              "       width=\"24px\">\n",
              "    <path d=\"M0 0h24v24H0V0z\" fill=\"none\"/>\n",
              "    <path d=\"M18.56 5.44l.94 2.06.94-2.06 2.06-.94-2.06-.94-.94-2.06-.94 2.06-2.06.94zm-11 1L8.5 8.5l.94-2.06 2.06-.94-2.06-.94L8.5 2.5l-.94 2.06-2.06.94zm10 10l.94 2.06.94-2.06 2.06-.94-2.06-.94-.94-2.06-.94 2.06-2.06.94z\"/><path d=\"M17.41 7.96l-1.37-1.37c-.4-.4-.92-.59-1.43-.59-.52 0-1.04.2-1.43.59L10.3 9.45l-7.72 7.72c-.78.78-.78 2.05 0 2.83L4 21.41c.39.39.9.59 1.41.59.51 0 1.02-.2 1.41-.59l7.78-7.78 2.81-2.81c.8-.78.8-2.07 0-2.86zM5.41 20L4 18.59l7.72-7.72 1.47 1.35L5.41 20z\"/>\n",
              "  </svg>\n",
              "      </button>\n",
              "      \n",
              "  <style>\n",
              "    .colab-df-container {\n",
              "      display:flex;\n",
              "      flex-wrap:wrap;\n",
              "      gap: 12px;\n",
              "    }\n",
              "\n",
              "    .colab-df-convert {\n",
              "      background-color: #E8F0FE;\n",
              "      border: none;\n",
              "      border-radius: 50%;\n",
              "      cursor: pointer;\n",
              "      display: none;\n",
              "      fill: #1967D2;\n",
              "      height: 32px;\n",
              "      padding: 0 0 0 0;\n",
              "      width: 32px;\n",
              "    }\n",
              "\n",
              "    .colab-df-convert:hover {\n",
              "      background-color: #E2EBFA;\n",
              "      box-shadow: 0px 1px 2px rgba(60, 64, 67, 0.3), 0px 1px 3px 1px rgba(60, 64, 67, 0.15);\n",
              "      fill: #174EA6;\n",
              "    }\n",
              "\n",
              "    [theme=dark] .colab-df-convert {\n",
              "      background-color: #3B4455;\n",
              "      fill: #D2E3FC;\n",
              "    }\n",
              "\n",
              "    [theme=dark] .colab-df-convert:hover {\n",
              "      background-color: #434B5C;\n",
              "      box-shadow: 0px 1px 3px 1px rgba(0, 0, 0, 0.15);\n",
              "      filter: drop-shadow(0px 1px 2px rgba(0, 0, 0, 0.3));\n",
              "      fill: #FFFFFF;\n",
              "    }\n",
              "  </style>\n",
              "\n",
              "      <script>\n",
              "        const buttonEl =\n",
              "          document.querySelector('#df-135c07f6-ff23-46ea-a7f1-60b30ec8d7ad button.colab-df-convert');\n",
              "        buttonEl.style.display =\n",
              "          google.colab.kernel.accessAllowed ? 'block' : 'none';\n",
              "\n",
              "        async function convertToInteractive(key) {\n",
              "          const element = document.querySelector('#df-135c07f6-ff23-46ea-a7f1-60b30ec8d7ad');\n",
              "          const dataTable =\n",
              "            await google.colab.kernel.invokeFunction('convertToInteractive',\n",
              "                                                     [key], {});\n",
              "          if (!dataTable) return;\n",
              "\n",
              "          const docLinkHtml = 'Like what you see? Visit the ' +\n",
              "            '<a target=\"_blank\" href=https://colab.research.google.com/notebooks/data_table.ipynb>data table notebook</a>'\n",
              "            + ' to learn more about interactive tables.';\n",
              "          element.innerHTML = '';\n",
              "          dataTable['output_type'] = 'display_data';\n",
              "          await google.colab.output.renderOutput(dataTable, element);\n",
              "          const docLink = document.createElement('div');\n",
              "          docLink.innerHTML = docLinkHtml;\n",
              "          element.appendChild(docLink);\n",
              "        }\n",
              "      </script>\n",
              "    </div>\n",
              "  </div>\n",
              "  "
            ]
          },
          "metadata": {},
          "execution_count": 2
        }
      ]
    },
    {
      "cell_type": "code",
      "source": [
        "df.info()"
      ],
      "metadata": {
        "colab": {
          "base_uri": "https://localhost:8080/"
        },
        "id": "77VabCqCNmWp",
        "outputId": "6ba37e69-95ca-4e01-e62d-ae35b4616651"
      },
      "execution_count": 3,
      "outputs": [
        {
          "output_type": "stream",
          "name": "stdout",
          "text": [
            "<class 'pandas.core.frame.DataFrame'>\n",
            "RangeIndex: 11 entries, 0 to 10\n",
            "Data columns (total 3 columns):\n",
            " #   Column  Non-Null Count  Dtype \n",
            "---  ------  --------------  ----- \n",
            " 0   mitra   11 non-null     object\n",
            " 1   alamat  11 non-null     object\n",
            " 2   modul   11 non-null     object\n",
            "dtypes: object(3)\n",
            "memory usage: 392.0+ bytes\n"
          ]
        }
      ]
    },
    {
      "cell_type": "code",
      "source": [
        "def print_description(index):\n",
        "    example = df[df.index == index][['modul', 'mitra','alamat']].values[0]\n",
        "    if len(example) > 0:\n",
        "        print(example[0])\n",
        "        print('mitra:', example[1])\n",
        "        print('alamat:', example[2])"
      ],
      "metadata": {
        "id": "9GmuQmyYNrMH"
      },
      "execution_count": 4,
      "outputs": []
    },
    {
      "cell_type": "code",
      "source": [
        "print_description(1)"
      ],
      "metadata": {
        "colab": {
          "base_uri": "https://localhost:8080/"
        },
        "id": "UF-NZATHNu67",
        "outputId": "d0cb9a15-363c-435f-cd06-3305d841fa03"
      },
      "execution_count": 5,
      "outputs": [
        {
          "output_type": "stream",
          "name": "stdout",
          "text": [
            "Desain Web   Git/Github   Javascript   Laravel   Database MYSQL   PHP   REST API   UI/UX   Soft Skill   Final Project\n",
            "mitra: PT Nurul Fikri Cipta Inovasi\n",
            "alamat: Jl. Situ Indah No.116 RT. 006 \n",
            "RW. 010 Kel. Tugu, Kec. Cimanggis, \n",
            "Kota Depok, Jawa Barat\n",
            "\n"
          ]
        }
      ]
    },
    {
      "cell_type": "code",
      "source": [
        "print_description(3)"
      ],
      "metadata": {
        "colab": {
          "base_uri": "https://localhost:8080/"
        },
        "id": "SGqL2kQZNyfB",
        "outputId": "7f533e84-ddca-47d5-d3e3-4fe15c744cfe"
      },
      "execution_count": 6,
      "outputs": [
        {
          "output_type": "stream",
          "name": "stdout",
          "text": [
            "Soft Skill. Mampu menjelaskan pengertian komunikasi interpersonal yang baik. Mampu menentukan penyelesaian masalah yang paling tepat dari berbagai alternatif pemecahan masalah yang ditemukan. Mampu menjalankan suatu komitmen secara bersama agar bisa mencapai tujuan yang sama pula. Mampu memahami pengertian, tujuan dan prinsip-prinsip manajemen waktu serta dapat menentukan urutan prioritas. Mampu menjelaskan lingkup kreativitas, pola dan proses berfikir kreatif untuk menemukan cara pemecahan masalah dan pengambilan keputusan. Pada pembelajaran individu, peserta akan mengikuti pembelajaran dengan mendengarkan tutorial dan kuliah dari pengajar.Materi ini mengajarkan Komunikasi Interpersonal (Communication Interpersonal), Problem Solving, Kerjasama Tim (Teamwork), Manajemen Waktu, Creative Thinking. UI/UX. Mampu mengimplementasikan desain prototype di Figma menuju Flutter. Tutorial dalam bentuk presentasi dan diskusi. Mahasiswa membaca materi, mengikuti penjelasan mentor, dan mengerjakan tugas-tugas sebagai berikut: Pengertian UI/UX, Teori UI Dasar, Teori UX Dasar, Pengenalan Figma dan dasar prototyping di Figma, Pengenalan Design Guidelines, Material Design Guideline, Apple’s Human Interface Guidelines, Implementasi prototype di Figma ke Flutter. Design Pattern. Mampu mengimplementasikan Design Pattern pada proyek Flutter. Tutorial dalam bentuk presentasi dan diskusi. Mahasiswa membaca materi, mengikuti penjelasan mentor, dan mengerjakan tugas-tugas sebagai berikut: Pengenalan Clean Code, Penjelasan design pattern, Penjelasan struktur proyek yang baik, Implementasi MVP Design pattern, Implementasi MVVM Design pattern. Pemrograman mobile. Mampu mengimplementasikan pemrograman mobile dengan Flutter. Code Versioning. Mampu mengimplementasikan Git dan fitur-fitur dasarnya pada proyek Flutter. Dasar-dasar Pemrograman. Mampu menulis, menjelaskan, dan mengoperasikan kodingan dengan baik menggunakan bahasa pemrograman Dart. Databases. Mampu mengimplementasikan Firebase sebagai autentikasi user dan database untuk aplikasi Flutter.\n",
            "mitra: Akademi Mobile App Developer PT Nurul Fikri Cipta Inovasi\n",
            "alamat: Jl. Situ Indah No.116 RT. 006 RW. 010 Kel. Tugu, Kec. Cimanggis, Kota Depok, Jawa Barat\n"
          ]
        }
      ]
    },
    {
      "cell_type": "code",
      "source": [
        "print_description(5)"
      ],
      "metadata": {
        "colab": {
          "base_uri": "https://localhost:8080/"
        },
        "id": "wcBoAgJYN-np",
        "outputId": "9b2bd91b-773f-44a3-9876-8c00919c6b0d"
      },
      "execution_count": 7,
      "outputs": [
        {
          "output_type": "stream",
          "name": "stdout",
          "text": [
            "Text Mining   Machine Learning   Basis Data   Pemrograman Web   Jejaring Sosial   Web Service   Pemrograman Aplikasi Mobile   \n",
            "Rekayasa Perangkat Lunak\n",
            "mitra: Wibowo Adi Saputro\n",
            "alamat: Desa Johorejo Rt 05 Rw 02 Kec. Gemuh Kab. Kendal Jawa tengah\n"
          ]
        }
      ]
    },
    {
      "cell_type": "code",
      "source": [
        "import nltk\n",
        "nltk.download('stopwords')\n",
        "clean_spcl = re.compile('[/(){}\\[\\]\\|@,;]')\n",
        "clean_symbol = re.compile('[^0-9a-z #+_]')\n",
        "#stopworda = set(stopwords.words('english'))\n",
        "\n",
        "def clean_text(text):\n",
        "    \"\"\"\n",
        "        text: a string\n",
        "        \n",
        "        return: modified initial string\n",
        "    \"\"\"\n",
        "    text = text.lower() # lowercase text\n",
        "    text = clean_spcl.sub(' ', text)\n",
        "    text = clean_symbol.sub('', text)\n",
        "    #text = ' '.join(word for word in text.split() if word not in stopworda) # hapus stopword dari kolom deskripsi\n",
        "    return text\n",
        "    \n",
        "df['modul_pembelajaran_clean'] = df['modul'].apply(clean_text)"
      ],
      "metadata": {
        "colab": {
          "base_uri": "https://localhost:8080/"
        },
        "id": "WyLOecp4OFRi",
        "outputId": "a1bcb69a-568e-4ad6-88e1-59ae5fb9b5b3"
      },
      "execution_count": 8,
      "outputs": [
        {
          "output_type": "stream",
          "name": "stderr",
          "text": [
            "[nltk_data] Downloading package stopwords to /root/nltk_data...\n",
            "[nltk_data]   Unzipping corpora/stopwords.zip.\n"
          ]
        }
      ]
    },
    {
      "cell_type": "code",
      "source": [
        "df.head()"
      ],
      "metadata": {
        "colab": {
          "base_uri": "https://localhost:8080/",
          "height": 337
        },
        "id": "RjcioiptOOGe",
        "outputId": "88012aeb-98dd-4199-b17e-2ee1a5b2a330"
      },
      "execution_count": 9,
      "outputs": [
        {
          "output_type": "execute_result",
          "data": {
            "text/plain": [
              "                                               mitra  \\\n",
              "0                         PT Orbit Ventura Indonesia   \n",
              "1                       PT Nurul Fikri Cipta Inovasi   \n",
              "2                  PT MariBelajar Indonesia \\nCerdas   \n",
              "3  Akademi Mobile App Developer PT Nurul Fikri Ci...   \n",
              "4           Data Analytics PT Zona Edukasi Nusantara   \n",
              "\n",
              "                                              alamat  \\\n",
              "0  Veteran RI Building 15th Floor Unit\\nZ15-002, ...   \n",
              "1  Jl. Situ Indah No.116 RT. 006 \\nRW. 010 Kel. T...   \n",
              "2  Jln Tunggul Ametung IVa no 8, \\nDesa Ubung Kaj...   \n",
              "3  Jl. Situ Indah No.116 RT. 006 RW. 010 Kel. Tug...   \n",
              "4  Graha Aktiva, Ground Floor, Jalan HR Rasuna Sa...   \n",
              "\n",
              "                                               modul  \\\n",
              "0  Project AI   Metode Penelitian AI   Pemrograma...   \n",
              "1  Desain Web   Git/Github   Javascript   Laravel...   \n",
              "2  Microsoft 365 Fundamentals   Microsoft Azure F...   \n",
              "3  Soft Skill. Mampu menjelaskan pengertian komun...   \n",
              "4  Membaca dan Meninjau Jurnal. Peserta mampu mem...   \n",
              "\n",
              "                            modul_pembelajaran_clean  \n",
              "0  project ai   metode penelitian ai   pemrograma...  \n",
              "1  desain web   git github   javascript   laravel...  \n",
              "2  microsoft 365 fundamentals   microsoft azure f...  \n",
              "3  soft skill mampu menjelaskan pengertian komuni...  \n",
              "4  membaca dan meninjau jurnal peserta mampu memb...  "
            ],
            "text/html": [
              "\n",
              "  <div id=\"df-19d7c5a4-bfb2-4e86-9983-28b6d9f8522b\">\n",
              "    <div class=\"colab-df-container\">\n",
              "      <div>\n",
              "<style scoped>\n",
              "    .dataframe tbody tr th:only-of-type {\n",
              "        vertical-align: middle;\n",
              "    }\n",
              "\n",
              "    .dataframe tbody tr th {\n",
              "        vertical-align: top;\n",
              "    }\n",
              "\n",
              "    .dataframe thead th {\n",
              "        text-align: right;\n",
              "    }\n",
              "</style>\n",
              "<table border=\"1\" class=\"dataframe\">\n",
              "  <thead>\n",
              "    <tr style=\"text-align: right;\">\n",
              "      <th></th>\n",
              "      <th>mitra</th>\n",
              "      <th>alamat</th>\n",
              "      <th>modul</th>\n",
              "      <th>modul_pembelajaran_clean</th>\n",
              "    </tr>\n",
              "  </thead>\n",
              "  <tbody>\n",
              "    <tr>\n",
              "      <th>0</th>\n",
              "      <td>PT Orbit Ventura Indonesia</td>\n",
              "      <td>Veteran RI Building 15th Floor Unit\\nZ15-002, ...</td>\n",
              "      <td>Project AI   Metode Penelitian AI   Pemrograma...</td>\n",
              "      <td>project ai   metode penelitian ai   pemrograma...</td>\n",
              "    </tr>\n",
              "    <tr>\n",
              "      <th>1</th>\n",
              "      <td>PT Nurul Fikri Cipta Inovasi</td>\n",
              "      <td>Jl. Situ Indah No.116 RT. 006 \\nRW. 010 Kel. T...</td>\n",
              "      <td>Desain Web   Git/Github   Javascript   Laravel...</td>\n",
              "      <td>desain web   git github   javascript   laravel...</td>\n",
              "    </tr>\n",
              "    <tr>\n",
              "      <th>2</th>\n",
              "      <td>PT MariBelajar Indonesia \\nCerdas</td>\n",
              "      <td>Jln Tunggul Ametung IVa no 8, \\nDesa Ubung Kaj...</td>\n",
              "      <td>Microsoft 365 Fundamentals   Microsoft Azure F...</td>\n",
              "      <td>microsoft 365 fundamentals   microsoft azure f...</td>\n",
              "    </tr>\n",
              "    <tr>\n",
              "      <th>3</th>\n",
              "      <td>Akademi Mobile App Developer PT Nurul Fikri Ci...</td>\n",
              "      <td>Jl. Situ Indah No.116 RT. 006 RW. 010 Kel. Tug...</td>\n",
              "      <td>Soft Skill. Mampu menjelaskan pengertian komun...</td>\n",
              "      <td>soft skill mampu menjelaskan pengertian komuni...</td>\n",
              "    </tr>\n",
              "    <tr>\n",
              "      <th>4</th>\n",
              "      <td>Data Analytics PT Zona Edukasi Nusantara</td>\n",
              "      <td>Graha Aktiva, Ground Floor, Jalan HR Rasuna Sa...</td>\n",
              "      <td>Membaca dan Meninjau Jurnal. Peserta mampu mem...</td>\n",
              "      <td>membaca dan meninjau jurnal peserta mampu memb...</td>\n",
              "    </tr>\n",
              "  </tbody>\n",
              "</table>\n",
              "</div>\n",
              "      <button class=\"colab-df-convert\" onclick=\"convertToInteractive('df-19d7c5a4-bfb2-4e86-9983-28b6d9f8522b')\"\n",
              "              title=\"Convert this dataframe to an interactive table.\"\n",
              "              style=\"display:none;\">\n",
              "        \n",
              "  <svg xmlns=\"http://www.w3.org/2000/svg\" height=\"24px\"viewBox=\"0 0 24 24\"\n",
              "       width=\"24px\">\n",
              "    <path d=\"M0 0h24v24H0V0z\" fill=\"none\"/>\n",
              "    <path d=\"M18.56 5.44l.94 2.06.94-2.06 2.06-.94-2.06-.94-.94-2.06-.94 2.06-2.06.94zm-11 1L8.5 8.5l.94-2.06 2.06-.94-2.06-.94L8.5 2.5l-.94 2.06-2.06.94zm10 10l.94 2.06.94-2.06 2.06-.94-2.06-.94-.94-2.06-.94 2.06-2.06.94z\"/><path d=\"M17.41 7.96l-1.37-1.37c-.4-.4-.92-.59-1.43-.59-.52 0-1.04.2-1.43.59L10.3 9.45l-7.72 7.72c-.78.78-.78 2.05 0 2.83L4 21.41c.39.39.9.59 1.41.59.51 0 1.02-.2 1.41-.59l7.78-7.78 2.81-2.81c.8-.78.8-2.07 0-2.86zM5.41 20L4 18.59l7.72-7.72 1.47 1.35L5.41 20z\"/>\n",
              "  </svg>\n",
              "      </button>\n",
              "      \n",
              "  <style>\n",
              "    .colab-df-container {\n",
              "      display:flex;\n",
              "      flex-wrap:wrap;\n",
              "      gap: 12px;\n",
              "    }\n",
              "\n",
              "    .colab-df-convert {\n",
              "      background-color: #E8F0FE;\n",
              "      border: none;\n",
              "      border-radius: 50%;\n",
              "      cursor: pointer;\n",
              "      display: none;\n",
              "      fill: #1967D2;\n",
              "      height: 32px;\n",
              "      padding: 0 0 0 0;\n",
              "      width: 32px;\n",
              "    }\n",
              "\n",
              "    .colab-df-convert:hover {\n",
              "      background-color: #E2EBFA;\n",
              "      box-shadow: 0px 1px 2px rgba(60, 64, 67, 0.3), 0px 1px 3px 1px rgba(60, 64, 67, 0.15);\n",
              "      fill: #174EA6;\n",
              "    }\n",
              "\n",
              "    [theme=dark] .colab-df-convert {\n",
              "      background-color: #3B4455;\n",
              "      fill: #D2E3FC;\n",
              "    }\n",
              "\n",
              "    [theme=dark] .colab-df-convert:hover {\n",
              "      background-color: #434B5C;\n",
              "      box-shadow: 0px 1px 3px 1px rgba(0, 0, 0, 0.15);\n",
              "      filter: drop-shadow(0px 1px 2px rgba(0, 0, 0, 0.3));\n",
              "      fill: #FFFFFF;\n",
              "    }\n",
              "  </style>\n",
              "\n",
              "      <script>\n",
              "        const buttonEl =\n",
              "          document.querySelector('#df-19d7c5a4-bfb2-4e86-9983-28b6d9f8522b button.colab-df-convert');\n",
              "        buttonEl.style.display =\n",
              "          google.colab.kernel.accessAllowed ? 'block' : 'none';\n",
              "\n",
              "        async function convertToInteractive(key) {\n",
              "          const element = document.querySelector('#df-19d7c5a4-bfb2-4e86-9983-28b6d9f8522b');\n",
              "          const dataTable =\n",
              "            await google.colab.kernel.invokeFunction('convertToInteractive',\n",
              "                                                     [key], {});\n",
              "          if (!dataTable) return;\n",
              "\n",
              "          const docLinkHtml = 'Like what you see? Visit the ' +\n",
              "            '<a target=\"_blank\" href=https://colab.research.google.com/notebooks/data_table.ipynb>data table notebook</a>'\n",
              "            + ' to learn more about interactive tables.';\n",
              "          element.innerHTML = '';\n",
              "          dataTable['output_type'] = 'display_data';\n",
              "          await google.colab.output.renderOutput(dataTable, element);\n",
              "          const docLink = document.createElement('div');\n",
              "          docLink.innerHTML = docLinkHtml;\n",
              "          element.appendChild(docLink);\n",
              "        }\n",
              "      </script>\n",
              "    </div>\n",
              "  </div>\n",
              "  "
            ]
          },
          "metadata": {},
          "execution_count": 9
        }
      ]
    },
    {
      "cell_type": "code",
      "source": [
        "# Tampilan kedua (Setelah preprocessing)\n",
        "def print_description_clean(index):\n",
        "    example = df[df.index == index][['modul_pembelajaran_clean', 'mitra','alamat']].values[0]\n",
        "    if len(example) > 0:\n",
        "        print(example[0])\n",
        "        print('mitra:', example[1])\n",
        "        print('alamat:', example[2])"
      ],
      "metadata": {
        "id": "7cGvrniEOYQt"
      },
      "execution_count": 10,
      "outputs": []
    },
    {
      "cell_type": "code",
      "source": [
        "print_description_clean(1)"
      ],
      "metadata": {
        "colab": {
          "base_uri": "https://localhost:8080/"
        },
        "id": "WEIEAmFHOaxv",
        "outputId": "5aece38d-01bf-4ac6-dbfe-b2f6475acf5e"
      },
      "execution_count": 11,
      "outputs": [
        {
          "output_type": "stream",
          "name": "stdout",
          "text": [
            "desain web   git github   javascript   laravel   database mysql   php   rest api   ui ux   soft skill   final project\n",
            "mitra: PT Nurul Fikri Cipta Inovasi\n",
            "alamat: Jl. Situ Indah No.116 RT. 006 \n",
            "RW. 010 Kel. Tugu, Kec. Cimanggis, \n",
            "Kota Depok, Jawa Barat\n",
            "\n"
          ]
        }
      ]
    },
    {
      "cell_type": "code",
      "source": [
        "print_description_clean(4)"
      ],
      "metadata": {
        "colab": {
          "base_uri": "https://localhost:8080/"
        },
        "id": "BEkQUQdBOftp",
        "outputId": "720da5b8-0e86-4e6a-b4d7-27fd6973bde5"
      },
      "execution_count": 14,
      "outputs": [
        {
          "output_type": "stream",
          "name": "stdout",
          "text": [
            "membaca dan meninjau jurnal peserta mampu membaca jurnal ilmiah untuk mendapatkan temuan utama peserta mampu menuliskan annotated bibliography dari jurnal ilmiah yang dibacapeserta mampu menuliskan critical review dari beberapa jurnal ilmiah untuk menemukan sintesis temuan utama dari setiap jurnal dasardasar data science  python  statistik  visualisasi data  dan analisis data pemodelan statistik  database sql query  pembuatan data dashboard peserta mampu membuat pemodelan statistik untuk permasalah regresi dan klasifikasi peserta mampu memecahkan masalah dengan pemodelan statistik peserta dapat mengolah database dan menarik data dari database dengan sql peserta mampu membuat dashboard data peserta memahami kontribusi data science dalam perkembangan bisnis dan pengambilan keputusan\n",
            "mitra: Data Analytics PT Zona Edukasi Nusantara\n",
            "alamat: Graha Aktiva, Ground Floor, Jalan HR Rasuna Said Kav. 03, East Kuningan, Setiabudi, South Jakarta, 12950, Indonesia\n"
          ]
        }
      ]
    },
    {
      "cell_type": "code",
      "source": [
        "print_description_clean(5)"
      ],
      "metadata": {
        "colab": {
          "base_uri": "https://localhost:8080/"
        },
        "id": "AyE_q4EyOq3A",
        "outputId": "baff8ff1-4ce9-40b2-a1e2-df8611f7ede9"
      },
      "execution_count": 13,
      "outputs": [
        {
          "output_type": "stream",
          "name": "stdout",
          "text": [
            "text mining   machine learning   basis data   pemrograman web   jejaring sosial   web service   pemrograman aplikasi mobile   rekayasa perangkat lunak\n",
            "mitra: Wibowo Adi Saputro\n",
            "alamat: Desa Johorejo Rt 05 Rw 02 Kec. Gemuh Kab. Kendal Jawa tengah\n"
          ]
        }
      ]
    },
    {
      "cell_type": "code",
      "source": [
        "df.set_index('mitra', inplace=True)\n",
        "tf = TfidfVectorizer(analyzer='word', ngram_range=(1, 3), min_df=0, stop_words='english')\n",
        "tfidf_matrix = tf.fit_transform(df['modul_pembelajaran_clean'])\n",
        "cos_sim = cosine_similarity(tfidf_matrix, tfidf_matrix)\n",
        "cos_sim"
      ],
      "metadata": {
        "colab": {
          "base_uri": "https://localhost:8080/"
        },
        "id": "JHUxQOqjO0RY",
        "outputId": "c6822dfa-024d-4660-defc-84ed80e75249"
      },
      "execution_count": 15,
      "outputs": [
        {
          "output_type": "execute_result",
          "data": {
            "text/plain": [
              "array([[1.        , 0.01287977, 0.01116645, 0.0195518 , 0.00518287,\n",
              "        0.02392018, 0.        , 0.        , 0.        , 0.        ,\n",
              "        0.        ],\n",
              "       [0.01287977, 1.        , 0.0110947 , 0.04268976, 0.00954252,\n",
              "        0.030729  , 0.        , 0.        , 0.00254011, 0.        ,\n",
              "        0.05318995],\n",
              "       [0.01116645, 0.0110947 , 1.        , 0.01195044, 0.        ,\n",
              "        0.        , 0.        , 0.        , 0.0017588 , 0.04170839,\n",
              "        0.        ],\n",
              "       [0.0195518 , 0.04268976, 0.01195044, 1.        , 0.12022644,\n",
              "        0.02719724, 0.09135869, 0.02596252, 0.122684  , 0.03585742,\n",
              "        0.0039131 ],\n",
              "       [0.00518287, 0.00954252, 0.        , 0.12022644, 1.        ,\n",
              "        0.02588876, 0.05961961, 0.0092215 , 0.15913507, 0.03626245,\n",
              "        0.01896292],\n",
              "       [0.02392018, 0.030729  , 0.        , 0.02719724, 0.02588876,\n",
              "        1.        , 0.        , 0.        , 0.        , 0.01545636,\n",
              "        0.        ],\n",
              "       [0.        , 0.        , 0.        , 0.09135869, 0.05961961,\n",
              "        0.        , 1.        , 0.0542497 , 0.05719007, 0.        ,\n",
              "        0.        ],\n",
              "       [0.        , 0.        , 0.        , 0.02596252, 0.0092215 ,\n",
              "        0.        , 0.0542497 , 1.        , 0.00590808, 0.        ,\n",
              "        0.        ],\n",
              "       [0.        , 0.00254011, 0.0017588 , 0.122684  , 0.15913507,\n",
              "        0.        , 0.05719007, 0.00590808, 1.        , 0.00527729,\n",
              "        0.        ],\n",
              "       [0.        , 0.        , 0.04170839, 0.03585742, 0.03626245,\n",
              "        0.01545636, 0.        , 0.        , 0.00527729, 1.        ,\n",
              "        0.        ],\n",
              "       [0.        , 0.05318995, 0.        , 0.0039131 , 0.01896292,\n",
              "        0.        , 0.        , 0.        , 0.        , 0.        ,\n",
              "        1.        ]])"
            ]
          },
          "metadata": {},
          "execution_count": 15
        }
      ]
    },
    {
      "cell_type": "code",
      "source": [
        "# Set index utama di kolom 'mitra'\n",
        "indices = pd.Series(df.index)\n",
        "indices[:50]"
      ],
      "metadata": {
        "colab": {
          "base_uri": "https://localhost:8080/"
        },
        "id": "B3Z0_9SYO6Cu",
        "outputId": "7a1767d4-2aaa-4d7d-a91b-b900f50dd51b"
      },
      "execution_count": 16,
      "outputs": [
        {
          "output_type": "execute_result",
          "data": {
            "text/plain": [
              "0                            PT Orbit Ventura Indonesia\n",
              "1                          PT Nurul Fikri Cipta Inovasi\n",
              "2                     PT MariBelajar Indonesia \\nCerdas\n",
              "3     Akademi Mobile App Developer PT Nurul Fikri Ci...\n",
              "4              Data Analytics PT Zona Edukasi Nusantara\n",
              "5                                    Wibowo Adi Saputro\n",
              "6            Accounting PT Simplefi Teknologi Indonesia\n",
              "7      AI & Blockchain Infrastructure Specialist, Dikti\n",
              "8                             2D Artist PT GIT SOLUTION\n",
              "9                     PT Telkom Indonesia (Persero) Tbk\n",
              "10                  PT Abbauf Mulia Konsultan Teknologi\n",
              "Name: mitra, dtype: object"
            ]
          },
          "metadata": {},
          "execution_count": 16
        }
      ]
    },
    {
      "cell_type": "code",
      "source": [
        "def recommendations(name, cos_sim = cos_sim):\n",
        "    \n",
        "    recommended_modul = []\n",
        "    \n",
        "    # Mengambil nama modul berdasarkan variabel indicies\n",
        "    idx = indices[indices == name].index[0]\n",
        "\n",
        "    # Membuat series berdasarkan skor kesamaan\n",
        "    score_series = pd.Series(cos_sim[idx]).sort_values(ascending = False)\n",
        "\n",
        "    # mengambil index dan dibuat 3 baris rekomendasi terbaik\n",
        "    top_10_indexes = list(score_series.iloc[1:4].index)\n",
        "    \n",
        "    for i in top_10_indexes:\n",
        "        recommended_modul.append(list(df.index)[i])\n",
        "        \n",
        "    return recommended_modul"
      ],
      "metadata": {
        "id": "w6md4U7VPAin"
      },
      "execution_count": 17,
      "outputs": []
    },
    {
      "cell_type": "code",
      "source": [
        "recommendations('Wibowo Adi Saputro')"
      ],
      "metadata": {
        "colab": {
          "base_uri": "https://localhost:8080/"
        },
        "id": "b60eZn4IPGTI",
        "outputId": "9007db5d-f759-4552-e5b9-ccf1f291c678"
      },
      "execution_count": 18,
      "outputs": [
        {
          "output_type": "execute_result",
          "data": {
            "text/plain": [
              "['PT Nurul Fikri Cipta Inovasi',\n",
              " 'Akademi Mobile App Developer PT Nurul Fikri Cipta Inovasi',\n",
              " 'Data Analytics PT Zona Edukasi Nusantara']"
            ]
          },
          "metadata": {},
          "execution_count": 18
        }
      ]
    },
    {
      "cell_type": "code",
      "source": [
        "recommendations('PT Telkom Indonesia (Persero) Tbk')"
      ],
      "metadata": {
        "colab": {
          "base_uri": "https://localhost:8080/"
        },
        "id": "sgVQp4BsPR1i",
        "outputId": "a32b1112-457c-478f-f4fc-10dbecebe8cd"
      },
      "execution_count": 19,
      "outputs": [
        {
          "output_type": "execute_result",
          "data": {
            "text/plain": [
              "['PT MariBelajar Indonesia \\nCerdas',\n",
              " 'Data Analytics PT Zona Edukasi Nusantara',\n",
              " 'Akademi Mobile App Developer PT Nurul Fikri Cipta Inovasi']"
            ]
          },
          "metadata": {},
          "execution_count": 19
        }
      ]
    },
    {
      "cell_type": "code",
      "source": [
        "recommendations('PT Nurul Fikri Cipta Inovasi')"
      ],
      "metadata": {
        "colab": {
          "base_uri": "https://localhost:8080/"
        },
        "id": "8LPXbQFdPT8d",
        "outputId": "4954f802-a79b-4c0a-8986-293d44497de2"
      },
      "execution_count": 20,
      "outputs": [
        {
          "output_type": "execute_result",
          "data": {
            "text/plain": [
              "['PT Abbauf Mulia Konsultan Teknologi',\n",
              " 'Akademi Mobile App Developer PT Nurul Fikri Cipta Inovasi',\n",
              " 'Wibowo Adi Saputro']"
            ]
          },
          "metadata": {},
          "execution_count": 20
        }
      ]
    }
  ]
}